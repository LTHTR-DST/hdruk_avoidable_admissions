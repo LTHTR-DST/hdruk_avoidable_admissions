{
 "cells": [
  {
   "cell_type": "markdown",
   "id": "a6c4bc8b-1de8-40f6-98b7-7bcd2288534b",
   "metadata": {},
   "source": [
    "# Download Code, Description mappings from NHS Data Dictionary Website\n",
    "\n",
    "There probably is a clean API for this. But it is 2AM and I can't be bothered. "
   ]
  },
  {
   "cell_type": "code",
   "execution_count": null,
   "id": "479f49c0-382a-4df1-abeb-1e7d9835beea",
   "metadata": {},
   "outputs": [],
   "source": [
    "import pandas as pd"
   ]
  },
  {
   "cell_type": "code",
   "execution_count": null,
   "id": "3a13e7a3-f336-436d-8d3c-3874778cf51a",
   "metadata": {},
   "outputs": [],
   "source": [
    "urls = {\n",
    "    \"gender\": \"https://www.datadictionary.nhs.uk/data_elements/person_gender_code_current.html\",\n",
    "    \"ethnos\": \"https://www.datadictionary.nhs.uk/data_elements/ethnic_category.html\",\n",
    "    \"admisorc\": \"https://www.datadictionary.nhs.uk/data_elements/admission_source__hospital_provider_spell_.html\",\n",
    "    \"admimeth\": \"https://www.datadictionary.nhs.uk/data_elements/admission_method_code__hospital_provider_spell_.html\",\n",
    "    \"disdest\": \"https://www.datadictionary.nhs.uk/data_elements/discharge_destination_code__hospital_provider_spell_.html\",\n",
    "    \"dismeth\": \"https://www.datadictionary.nhs.uk/data_elements/discharge_method_code__hospital_provider_spell_.html\",\n",
    "}"
   ]
  },
  {
   "cell_type": "code",
   "execution_count": null,
   "id": "55ddfa4c-4a76-43b9-9107-68e8d30a53b0",
   "metadata": {},
   "outputs": [],
   "source": [
    "# Will be good to add some validation here if adding more urls.\n",
    "# But this seems to work predictably\n",
    "out = {}\n",
    "for k, v in urls.items():\n",
    "    x = pd.read_html(v, match=\"Code\")\n",
    "    x = pd.concat(x)\n",
    "    x.Code = x.Code.astype(str)\n",
    "    x = x.set_index(\"Code\").Description.to_dict()\n",
    "    out[k] = {\"url\": v, \"mapping\": x}"
   ]
  },
  {
   "cell_type": "code",
   "execution_count": null,
   "id": "0b9c7efd-5dad-49db-bfb2-fa903fc20621",
   "metadata": {},
   "outputs": [],
   "source": [
    "# Output has been copied into avoidable_admissions/data/nhsdd.py and converted into python dictionaries\n",
    "out"
   ]
  }
 ],
 "metadata": {
  "kernelspec": {
   "display_name": "Python 3 (ipykernel)",
   "language": "python",
   "name": "python3"
  },
  "language_info": {
   "codemirror_mode": {
    "name": "ipython",
    "version": 3
   },
   "file_extension": ".py",
   "mimetype": "text/x-python",
   "name": "python",
   "nbconvert_exporter": "python",
   "pygments_lexer": "ipython3",
   "version": "3.11.0"
  }
 },
 "nbformat": 4,
 "nbformat_minor": 5
}
