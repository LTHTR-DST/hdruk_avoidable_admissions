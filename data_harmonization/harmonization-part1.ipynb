{
 "cells": [
  {
   "cell_type": "code",
   "execution_count": null,
   "id": "5deaa25d-3336-45a2-9472-b25924461154",
   "metadata": {},
   "outputs": [],
   "source": [
    "%load_ext autoreload\n",
    "%autoreload 2"
   ]
  },
  {
   "cell_type": "markdown",
   "id": "020b5fe3-01df-4dae-9089-876695bf9616",
   "metadata": {},
   "source": [
    "# HDRUK Acute Admissions Feature Engineering Part 1\n",
    "\n",
    "This is an example using code available at https://github.com/lthtr-dst/hdruk_avoidable_admissions\n",
    "\n",
    "Under development and there are bound to be breaking changes and bugs. \n",
    "\n",
    "Please see commit history, ensure you have the latest clone of the repo, have updated your conda environment using the environment.yaml file.\n",
    "\n",
    "Please raise an issue if you find a bug or have a question.\n",
    "\n",
    "The synthetic data was generated using sdv this time (V please add a reference and explanation)"
   ]
  },
  {
   "cell_type": "markdown",
   "id": "9eddf5d6-c2b9-4992-bdfa-80e56af0c130",
   "metadata": {},
   "source": [
    "## Admitted Care"
   ]
  },
  {
   "cell_type": "code",
   "execution_count": null,
   "id": "c06b5f11-7f5a-4929-beed-f6cff5812459",
   "metadata": {},
   "outputs": [],
   "source": [
    "# Import Packages\n",
    "\n",
    "import numpy as np\n",
    "import pandas as pd\n",
    "\n",
    "import avoidable_admissions as aa"
   ]
  },
  {
   "cell_type": "code",
   "execution_count": null,
   "id": "ba314eac-c1d2-44c5-837d-f6cace38833e",
   "metadata": {},
   "outputs": [],
   "source": [
    "# Import Data. Typically df is used as a moniker for a dataframe. The dytype argument can be droped if you want (it coerces all the data to strings)\n",
    "\n",
    "df = pd.read_csv(\"synthetic_data/sdv_hdruk_admitted_care_synthetic_data.csv\")"
   ]
  },
  {
   "cell_type": "code",
   "execution_count": null,
   "id": "4d35b4cf-5afe-4bde-865b-e48afed3fe82",
   "metadata": {},
   "outputs": [],
   "source": [
    "# Looking much better this time\n",
    "\n",
    "df.columns"
   ]
  },
  {
   "cell_type": "code",
   "execution_count": null,
   "id": "4bfa798e-a1c8-4b33-b321-89843e117a7c",
   "metadata": {},
   "outputs": [],
   "source": [
    "# Lets create a copy\n",
    "\n",
    "dfa = df.copy()"
   ]
  },
  {
   "cell_type": "markdown",
   "id": "eb3f4a99-e927-4fdc-a6f9-d42672a9acb7",
   "metadata": {},
   "source": [
    "## First Validation"
   ]
  },
  {
   "cell_type": "code",
   "execution_count": null,
   "id": "44a1c8cd-feaf-4cc2-bf79-d002ea5eed96",
   "metadata": {},
   "outputs": [],
   "source": [
    "# And run the first validation\n",
    "\n",
    "good, bad = aa.data.validate.validate_admitted_care_data(dfa)"
   ]
  },
  {
   "cell_type": "code",
   "execution_count": null,
   "id": "c07c794d-d95a-4a3d-be7d-35351694214e",
   "metadata": {},
   "outputs": [],
   "source": [
    "# Now we can print the results\n",
    "\n",
    "print(f\"\"\"\n",
    "Total number of rows in input data   : {dfa.shape[0]}\n",
    "Number of rows that passed validation: {good.shape[0]}\n",
    "Number of rows that failed validation: {bad.shape[0]}\n",
    "\"\"\")"
   ]
  },
  {
   "cell_type": "code",
   "execution_count": null,
   "id": "5a918be6-1475-4ea8-97c7-accad096374d",
   "metadata": {},
   "outputs": [],
   "source": [
    "# Here are our failure cases\n",
    "\n",
    "bad[[\"schema_context\", \"column\", \"check\", \"check_number\", \"failure_case\", \"index\"]]"
   ]
  },
  {
   "cell_type": "markdown",
   "id": "938e37cd-3b3c-4665-96eb-a7da43b667eb",
   "metadata": {},
   "source": [
    "## Feature Engineering"
   ]
  },
  {
   "cell_type": "code",
   "execution_count": null,
   "id": "b915bff4-c9cb-4bd2-b9a6-dd11125199ca",
   "metadata": {},
   "outputs": [],
   "source": [
    "# Now we can try to engineer the features\n",
    "\n",
    "dfa_features = aa.features.build_features.build_admitted_care_features(good.copy())"
   ]
  },
  {
   "cell_type": "markdown",
   "id": "3d8ff857-fab3-4351-8873-9053c2407a15",
   "metadata": {},
   "source": [
    "## Second validation"
   ]
  },
  {
   "cell_type": "code",
   "execution_count": null,
   "id": "b4a7e9b8-2d6d-4c52-82dc-c290e2f0b0af",
   "metadata": {},
   "outputs": [],
   "source": [
    "# Now we are in a position to try and re-run the validation - second run\n",
    "\n",
    "good, bad = aa.data.validate.validate_admitted_care_features(dfa_features)\n",
    "print(f\"\"\"\n",
    "Total number of rows in input data   : {dfa_features.shape[0]}\n",
    "Number of rows that passed validation: {good.shape[0]}\n",
    "Number of rows that failed validation: {bad.shape[0]}\n",
    "\"\"\")"
   ]
  },
  {
   "cell_type": "code",
   "execution_count": null,
   "id": "a6c85a06-437c-439e-92e0-e1ee9519590e",
   "metadata": {},
   "outputs": [],
   "source": [
    "# And the failure cases are all gone\n",
    "\n",
    "bad[[\"schema_context\", \"column\", \"check\", \"check_number\", \"failure_case\", \"index\"]]"
   ]
  }
 ],
 "metadata": {
  "kernelspec": {
   "display_name": "Python 3",
   "language": "python",
   "name": "python3"
  },
  "language_info": {
   "codemirror_mode": {
    "name": "ipython",
    "version": 3
   },
   "file_extension": ".py",
   "mimetype": "text/x-python",
   "name": "python",
   "nbconvert_exporter": "python",
   "pygments_lexer": "ipython3",
   "version": "3.10.0 (tags/v3.10.0:b494f59, Oct  4 2021, 19:00:18) [MSC v.1929 64 bit (AMD64)]"
  },
  "vscode": {
   "interpreter": {
    "hash": "67f309c84aef927e23370ac3f0eff32084ea4ac673a1eba0bd21453e4bffc4a7"
   }
  }
 },
 "nbformat": 4,
 "nbformat_minor": 5
}
